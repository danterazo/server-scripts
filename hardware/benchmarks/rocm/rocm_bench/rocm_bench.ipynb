{
 "cells": [
  {
   "cell_type": "markdown",
   "id": "671af6ad",
   "metadata": {},
   "source": [
    "# ROCm PyTorch Benchmark for 9070 XT\n",
    "## Imports"
   ]
  },
  {
   "cell_type": "markdown",
   "id": "0c82a959",
   "metadata": {},
   "source": [
    "import time\n",
    "\n",
    "import torch\n",
    "from torch import Tensor\n",
    "from torch.device import Device\n",
    "from torch.nn import CrossEntropyLoss, Module\n",
    "from torch.nn.modules.loss import _Loss\n",
    "from torch.optim import AdamW\n",
    "from torch.optim.optimizer import Optimizer"
   ]
  },
  {
   "cell_type": "markdown",
   "id": "75ddd41f",
   "metadata": {},
   "source": [
    "## Training Parameters"
   ]
  },
  {
   "cell_type": "code",
   "execution_count": null,
   "id": "7af8b576",
   "metadata": {
    "vscode": {
     "languageId": "plaintext"
    }
   },
   "outputs": [],
   "source": [
    "EPOCHS: int = 8\n",
    "BATCH_SIZE: int = 512\n",
    "WIDTH: int = 224\n",
    "HEIGHT: int = 224\n",
    "CLASSES: int = 1000\n"
   ]
  },
  {
   "cell_type": "code",
   "execution_count": null,
   "id": "1ce1baae",
   "metadata": {
    "vscode": {
     "languageId": "plaintext"
    }
   },
   "outputs": [],
   "source": [
    "\n",
    "\n",
    "\n",
    "device: Device = torch.device(\"cuda\" if torch.cuda.is_available() else \"cpu\")\n",
    "print(f\"Using device: {device}\")\n",
    "\n",
    "model: Module = torch.hub.load('pytorch/vision', 'resnet50', weights=None).to(device)\n",
    "optimizer: Optimizer = AdamW(model.parameters(), lr=1e-3)\n",
    "criterion: _Loss = CrossEntropyLoss()\n",
    "\n",
    "print(\"Starting synthetic training loop...\")\n",
    "\n",
    "for epoch in range(EPOCHS):\n",
    "    inputs: Tensor = torch.randn(BATCH_SIZE, 3, HEIGHT, WIDTH, device=device)\n",
    "    targets: Tensor = torch.randint(0, CLASSES, (BATCH_SIZE,), device=device)\n",
    "\n",
    "    start: float = time.time()\n",
    "    optimizer.zero_grad()\n",
    "    outputs: Tensor = model(inputs)\n",
    "    loss: Tensor = criterion(outputs, targets)\n",
    "    loss.backward()\n",
    "    optimizer.step()\n",
    "    end: float = time.time()\n",
    "\n",
    "    print(f\"Epoch {epoch+1}/{EPOCHS} done - Loss: {loss.item():.4f} - Time: {end-start:.2f}s\")\n",
    "\n",
    "print(\"GPU benchmark complete.\")\n"
   ]
  }
 ],
 "metadata": {
  "language_info": {
   "name": "python"
  }
 },
 "nbformat": 4,
 "nbformat_minor": 5
}
