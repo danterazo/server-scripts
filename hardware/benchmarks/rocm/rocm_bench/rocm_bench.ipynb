{
 "cells": [
  {
   "cell_type": "markdown",
   "id": "671af6ad",
   "metadata": {},
   "source": [
    "# ROCm PyTorch Benchmark for 9070 XT\n",
    "## Environment & Imports"
   ]
  },
  {
   "cell_type": "code",
   "execution_count": null,
   "id": "0c82a959",
   "metadata": {},
   "outputs": [],
   "source": [
    "import time\n",
    "\n",
    "import torch\n",
    "from torch import Tensor\n",
    "from torch.device import Device\n",
    "from torch.nn import CrossEntropyLoss, Module\n",
    "from torch.nn.modules.loss import _Loss\n",
    "from torch.optim import AdamW\n",
    "from torch.optim.optimizer import Optimizer"
   ]
  },
  {
   "cell_type": "markdown",
   "id": "75ddd41f",
   "metadata": {},
   "source": [
    "## Define Parameters"
   ]
  },
  {
   "cell_type": "code",
   "execution_count": null,
   "id": "7af8b576",
   "metadata": {},
   "outputs": [],
   "source": [
    "EPOCHS: int = 8\n",
    "BATCH_SIZE: int = 512\n",
    "WIDTH: int = 224\n",
    "HEIGHT: int = 224\n",
    "CLASSES: int = 1000"
   ]
  },
  {
   "cell_type": "markdown",
   "id": "b6f1f4bb",
   "metadata": {},
   "source": [
    "## Define Training Device"
   ]
  },
  {
   "cell_type": "code",
   "execution_count": null,
   "id": "959f4141",
   "metadata": {},
   "outputs": [],
   "source": [
    "device: Device = torch.device(\"cuda\" if torch.cuda.is_available() else \"cpu\")\n",
    "print(f\"Using device: {device}\")"
   ]
  },
  {
   "cell_type": "markdown",
   "id": "5dc067c6",
   "metadata": {},
   "source": [
    "## Initialize Model"
   ]
  },
  {
   "cell_type": "code",
   "execution_count": null,
   "id": "1ce1baae",
   "metadata": {},
   "outputs": [],
   "source": [
    "model: Module = torch.hub.load(\"pytorch/vision\", \"resnet50\", weights=None).to(device)\n",
    "optimizer: Optimizer = AdamW(model.parameters(), lr=1e-3)\n",
    "criterion: _Loss = CrossEntropyLoss()"
   ]
  },
  {
   "cell_type": "markdown",
   "id": "0db8d80b",
   "metadata": {},
   "source": [
    "## Start Training Loop(s)"
   ]
  },
  {
   "cell_type": "code",
   "execution_count": null,
   "id": "f1648853",
   "metadata": {},
   "outputs": [],
   "source": [
    "print(\"Starting synthetic training loop...\")\n",
    "\n",
    "for epoch in range(EPOCHS):\n",
    "    inputs: Tensor = torch.randn(BATCH_SIZE, 3, HEIGHT, WIDTH, device=device)\n",
    "    targets: Tensor = torch.randint(0, CLASSES, (BATCH_SIZE,), device=device)\n",
    "\n",
    "    start: float = time.time()\n",
    "    optimizer.zero_grad()\n",
    "    outputs: Tensor = model(inputs)\n",
    "    loss: Tensor = criterion(outputs, targets)\n",
    "    loss.backward()\n",
    "    optimizer.step()\n",
    "    end: float = time.time()\n",
    "\n",
    "    print(\n",
    "        f\"Epoch {epoch + 1}/{EPOCHS} done - Loss: {loss.item():.4f} - Time: {end - start:.2f}s\"\n",
    "    )\n",
    "\n",
    "print(\"GPU benchmark complete.\")"
   ]
  }
 ],
 "metadata": {
  "kernelspec": {
   "display_name": ".venv",
   "language": "python",
   "name": "python3"
  },
  "language_info": {
   "name": "python",
   "version": "3.12.8"
  }
 },
 "nbformat": 4,
 "nbformat_minor": 5
}
